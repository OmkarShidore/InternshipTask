{
 "cells": [
  {
   "cell_type": "markdown",
   "metadata": {},
   "source": [
    "Create a function that will take the amount that is to be withdrawn and return the type of notes\n",
    "and update the ATM cash count "
   ]
  },
  {
   "cell_type": "code",
   "execution_count": 102,
   "metadata": {},
   "outputs": [],
   "source": [
    "notes={100:10,200:10,500:10,2000:10}"
   ]
  },
  {
   "cell_type": "code",
   "execution_count": 103,
   "metadata": {},
   "outputs": [],
   "source": [
    "\n",
    "def withdraw(amount):\n",
    "    required_notes=[]\n",
    "    note=[100,200,500,2000]\n",
    "    while amount!=0:\n",
    "        if amount>=2000:\n",
    "                if notes[2000]!=0:\n",
    "                    notes.update({2000:notes[2000]-1})\n",
    "                    sum=2000\n",
    "                    amount=amount-sum\n",
    "                    required_notes.append(sum)\n",
    "                else:\n",
    "                    if notes[500]!=0:\n",
    "                        notes.update({500:notes[500]-1})\n",
    "                        sum=500\n",
    "                        amount=amount-sum\n",
    "                        required_notes.append(sum)\n",
    "                    else:\n",
    "                        if notes[200]!=0:\n",
    "                            notes.update({200:notes[200]-1})\n",
    "                            sum=200\n",
    "                            amount=amount-sum\n",
    "                            required_notes.append(sum)\n",
    "                        else:\n",
    "                            if notes[100]!=0:\n",
    "                                notes.update({100:notes[100]-1})\n",
    "                                sum=100\n",
    "                                amount=amount-sum\n",
    "                                required_notes.append(sum)\n",
    "                            else:\n",
    "                                print('Sorry not enough cash in ATM')\n",
    "                                for i in required_notes:\n",
    "                                    notes.update({i:notes[i]+1})\n",
    "                                    required_notes=[]\n",
    "                                break\n",
    "        elif amount>=500 and amount<2000:\n",
    "            if notes[500]!=0:\n",
    "                notes.update({500:notes[500]-1})\n",
    "                sum=500\n",
    "                amount=amount-sum\n",
    "                required_notes.append(sum)\n",
    "            else:\n",
    "                if notes[200]!=0:\n",
    "                    notes.update({200:notes[200]-1})\n",
    "                    sum=200\n",
    "                    amount=amount-sum\n",
    "                    required_notes.append(sum)\n",
    "                else:\n",
    "                    if notes[100]!=0:\n",
    "                        notes.update({100:notes[100]-1})\n",
    "                        sum=100\n",
    "                        amount=amount-sum\n",
    "                        required_notes.append(sum)\n",
    "                        required_notes=[]\n",
    "                    else:\n",
    "                        print('Sorry not enough cash in ATM')\n",
    "                        for i in required_notes:\n",
    "                            notes.update({i:notes[i]+1})\n",
    "                            required_notes=[]\n",
    "                        break\n",
    "        elif amount>=200 and amount<=500:\n",
    "            if notes[200]!=0:\n",
    "                notes.update({200:notes[200]-1})\n",
    "                sum=200\n",
    "                amount=amount-sum\n",
    "                required_notes.append(sum)\n",
    "            else:\n",
    "                if notes[100]!=0:\n",
    "                    notes.update({100:notes[100]-1})\n",
    "                    sum=100\n",
    "                    amount=amount-sum\n",
    "                    required_notes.append(sum)\n",
    "                else:\n",
    "                    print('Sorry not enough cash in ATM')\n",
    "                    for i in required_notes:\n",
    "                        notes.update({i:notes[i]+1})\n",
    "                        required_notes=[]\n",
    "                    break\n",
    "        elif amount>=100 and amount<=200:\n",
    "            if notes[100]!=0:\n",
    "                notes.update({100:notes[100]-1})\n",
    "                sum=100\n",
    "                amount=amount-sum\n",
    "                required_notes.append(sum)\n",
    "            else:\n",
    "                print('Transaction failed')\n",
    "                for i in required_notes:\n",
    "                    notes.update({i:notes[i]+1})\n",
    "                    required_notes=[]\n",
    "                break\n",
    "    return required_notes"
   ]
  },
  {
   "cell_type": "code",
   "execution_count": 104,
   "metadata": {},
   "outputs": [
    {
     "name": "stdout",
     "output_type": "stream",
     "text": [
      "Withdrawn Notes:  [2000, 2000, 2000, 2000, 2000, 2000, 2000, 2000, 2000]\n",
      "Notes left in ATM:  {100: 10, 200: 10, 500: 10, 2000: 1}\n"
     ]
    }
   ],
   "source": [
    "required_notes=withdraw(18000)\n",
    "print(\"Withdrawn Notes: \",required_notes) \n",
    "print(\"Notes left in ATM: \",notes)\n",
    "#2000 notes reduced to 1 from 10"
   ]
  },
  {
   "cell_type": "code",
   "execution_count": 105,
   "metadata": {},
   "outputs": [
    {
     "name": "stdout",
     "output_type": "stream",
     "text": [
      "Withdrawn Notes:  [2000, 500, 500]\n",
      "Notes left in ATM:  {100: 10, 200: 10, 500: 8, 2000: 0}\n"
     ]
    }
   ],
   "source": [
    "required_notes=withdraw(3000)\n",
    "print(\"Withdrawn Notes: \",required_notes) \n",
    "print(\"Notes left in ATM: \",notes)"
   ]
  },
  {
   "cell_type": "code",
   "execution_count": 106,
   "metadata": {},
   "outputs": [
    {
     "name": "stdout",
     "output_type": "stream",
     "text": [
      "Withdrawn Notes:  [500, 500, 500, 500, 500, 500, 500, 500, 200, 200, 200, 200, 200]\n",
      "Notes left in ATM:  {100: 10, 200: 5, 500: 0, 2000: 0}\n"
     ]
    }
   ],
   "source": [
    "required_notes=withdraw(5000)\n",
    "print(\"Withdrawn Notes: \",required_notes) \n",
    "print(\"Notes left in ATM: \",notes)"
   ]
  },
  {
   "cell_type": "code",
   "execution_count": 107,
   "metadata": {},
   "outputs": [
    {
     "name": "stdout",
     "output_type": "stream",
     "text": [
      "Sorry not enough cash in ATM\n",
      "Withdrawn Notes:  []\n",
      "Notes left in ATM:  {100: 10, 200: 5, 500: 0, 2000: 0}\n"
     ]
    }
   ],
   "source": [
    "required_notes=withdraw(5000)\n",
    "print(\"Withdrawn Notes: \",required_notes) \n",
    "print(\"Notes left in ATM: \",notes)\n",
    "#Number of Notes in the ATM haven't changed, as not enough funds in ATM"
   ]
  },
  {
   "cell_type": "code",
   "execution_count": null,
   "metadata": {},
   "outputs": [],
   "source": []
  },
  {
   "cell_type": "code",
   "execution_count": null,
   "metadata": {},
   "outputs": [],
   "source": []
  }
 ],
 "metadata": {
  "kernelspec": {
   "display_name": "Python 3",
   "language": "python",
   "name": "python3"
  },
  "language_info": {
   "codemirror_mode": {
    "name": "ipython",
    "version": 3
   },
   "file_extension": ".py",
   "mimetype": "text/x-python",
   "name": "python",
   "nbconvert_exporter": "python",
   "pygments_lexer": "ipython3",
   "version": "3.7.4"
  }
 },
 "nbformat": 4,
 "nbformat_minor": 2
}

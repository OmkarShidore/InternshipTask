{
 "cells": [
  {
   "cell_type": "code",
   "execution_count": 2,
   "metadata": {},
   "outputs": [],
   "source": [
    "import pandas as pd\n",
    "import numpy as np\n",
    "import matplotlib.pyplot as plt\n",
    "import seaborn as sns\n",
    "%matplotlib inline\n",
    "from sklearn.preprocessing import StandardScaler\n",
    "import os\n",
    "import torch\n",
    "import torch.nn as nn\n",
    "import torch.optim as optim\n",
    "from torch.utils.data import Dataset, DataLoader\n",
    "from sklearn.preprocessing import StandardScaler    \n",
    "from sklearn.model_selection import train_test_split\n",
    "from sklearn.metrics import confusion_matrix, classification_report\n",
    "\n",
    "from torch.utils.data.sampler import Sampler\n",
    "from sklearn.model_selection import train_test_split\n",
    "from sklearn.neighbors import KNeighborsClassifier\n",
    "from sklearn.metrics import classification_report,confusion_matrix"
   ]
  },
  {
   "cell_type": "code",
   "execution_count": 3,
   "metadata": {},
   "outputs": [],
   "source": [
    "df = pd.read_csv(os.getcwd()+'/data/challenge_2/challenge2_dataset.csv')"
   ]
  },
  {
   "cell_type": "code",
   "execution_count": 4,
   "metadata": {},
   "outputs": [
    {
     "data": {
      "text/html": [
       "<div>\n",
       "<style scoped>\n",
       "    .dataframe tbody tr th:only-of-type {\n",
       "        vertical-align: middle;\n",
       "    }\n",
       "\n",
       "    .dataframe tbody tr th {\n",
       "        vertical-align: top;\n",
       "    }\n",
       "\n",
       "    .dataframe thead th {\n",
       "        text-align: right;\n",
       "    }\n",
       "</style>\n",
       "<table border=\"1\" class=\"dataframe\">\n",
       "  <thead>\n",
       "    <tr style=\"text-align: right;\">\n",
       "      <th></th>\n",
       "      <th>Unnamed: 0</th>\n",
       "      <th>1</th>\n",
       "      <th>2</th>\n",
       "      <th>3</th>\n",
       "      <th>Target</th>\n",
       "    </tr>\n",
       "  </thead>\n",
       "  <tbody>\n",
       "    <tr>\n",
       "      <th>0</th>\n",
       "      <td>0</td>\n",
       "      <td>0.60</td>\n",
       "      <td>0.31</td>\n",
       "      <td>13.0</td>\n",
       "      <td>False</td>\n",
       "    </tr>\n",
       "    <tr>\n",
       "      <th>1</th>\n",
       "      <td>1</td>\n",
       "      <td>0.74</td>\n",
       "      <td>0.33</td>\n",
       "      <td>21.0</td>\n",
       "      <td>False</td>\n",
       "    </tr>\n",
       "    <tr>\n",
       "      <th>2</th>\n",
       "      <td>2</td>\n",
       "      <td>0.54</td>\n",
       "      <td>0.19</td>\n",
       "      <td>NaN</td>\n",
       "      <td>True</td>\n",
       "    </tr>\n",
       "    <tr>\n",
       "      <th>3</th>\n",
       "      <td>3</td>\n",
       "      <td>0.46</td>\n",
       "      <td>NaN</td>\n",
       "      <td>9.0</td>\n",
       "      <td>False</td>\n",
       "    </tr>\n",
       "    <tr>\n",
       "      <th>4</th>\n",
       "      <td>4</td>\n",
       "      <td>0.77</td>\n",
       "      <td>0.15</td>\n",
       "      <td>15.0</td>\n",
       "      <td>True</td>\n",
       "    </tr>\n",
       "  </tbody>\n",
       "</table>\n",
       "</div>"
      ],
      "text/plain": [
       "   Unnamed: 0     1     2     3 Target\n",
       "0           0  0.60  0.31  13.0  False\n",
       "1           1  0.74  0.33  21.0  False\n",
       "2           2  0.54  0.19   NaN   True\n",
       "3           3  0.46   NaN   9.0  False\n",
       "4           4  0.77  0.15  15.0   True"
      ]
     },
     "execution_count": 4,
     "metadata": {},
     "output_type": "execute_result"
    }
   ],
   "source": [
    "df.head()"
   ]
  },
  {
   "cell_type": "code",
   "execution_count": 5,
   "metadata": {},
   "outputs": [
    {
     "data": {
      "text/html": [
       "<div>\n",
       "<style scoped>\n",
       "    .dataframe tbody tr th:only-of-type {\n",
       "        vertical-align: middle;\n",
       "    }\n",
       "\n",
       "    .dataframe tbody tr th {\n",
       "        vertical-align: top;\n",
       "    }\n",
       "\n",
       "    .dataframe thead th {\n",
       "        text-align: right;\n",
       "    }\n",
       "</style>\n",
       "<table border=\"1\" class=\"dataframe\">\n",
       "  <thead>\n",
       "    <tr style=\"text-align: right;\">\n",
       "      <th></th>\n",
       "      <th>1</th>\n",
       "      <th>2</th>\n",
       "      <th>3</th>\n",
       "      <th>Target</th>\n",
       "    </tr>\n",
       "  </thead>\n",
       "  <tbody>\n",
       "    <tr>\n",
       "      <th>0</th>\n",
       "      <td>0.60</td>\n",
       "      <td>0.31</td>\n",
       "      <td>13.0</td>\n",
       "      <td>0</td>\n",
       "    </tr>\n",
       "    <tr>\n",
       "      <th>1</th>\n",
       "      <td>0.74</td>\n",
       "      <td>0.33</td>\n",
       "      <td>21.0</td>\n",
       "      <td>0</td>\n",
       "    </tr>\n",
       "    <tr>\n",
       "      <th>4</th>\n",
       "      <td>0.77</td>\n",
       "      <td>0.15</td>\n",
       "      <td>15.0</td>\n",
       "      <td>1</td>\n",
       "    </tr>\n",
       "    <tr>\n",
       "      <th>5</th>\n",
       "      <td>0.46</td>\n",
       "      <td>0.17</td>\n",
       "      <td>18.0</td>\n",
       "      <td>0</td>\n",
       "    </tr>\n",
       "    <tr>\n",
       "      <th>6</th>\n",
       "      <td>0.49</td>\n",
       "      <td>0.26</td>\n",
       "      <td>10.0</td>\n",
       "      <td>0</td>\n",
       "    </tr>\n",
       "  </tbody>\n",
       "</table>\n",
       "</div>"
      ],
      "text/plain": [
       "      1     2     3  Target\n",
       "0  0.60  0.31  13.0       0\n",
       "1  0.74  0.33  21.0       0\n",
       "4  0.77  0.15  15.0       1\n",
       "5  0.46  0.17  18.0       0\n",
       "6  0.49  0.26  10.0       0"
      ]
     },
     "execution_count": 5,
     "metadata": {},
     "output_type": "execute_result"
    }
   ],
   "source": [
    "#droping column 'unnamed: 0' and data rows with value 'NaN'\n",
    "df.drop('Unnamed: 0',axis=1,inplace=True)\n",
    "df.dropna(subset=['Target','1','2','3'],inplace=True)\n",
    "\n",
    "#replace Flase with 0 and True with 1\n",
    "binary_class={False:int(0),True:int(1)}\n",
    "df['Target'].replace(binary_class,inplace=True)\n",
    "df.head()"
   ]
  },
  {
   "cell_type": "code",
   "execution_count": 6,
   "metadata": {},
   "outputs": [
    {
     "data": {
      "text/plain": [
       "<matplotlib.axes._subplots.AxesSubplot at 0x7fb2ac0a4650>"
      ]
     },
     "execution_count": 6,
     "metadata": {},
     "output_type": "execute_result"
    },
    {
     "data": {
      "image/png": "[encoded data removed]",
      "text/plain": [
       "<Figure size 432x288 with 1 Axes>"
      ]
     },
     "metadata": {
      "needs_background": "light"
     },
     "output_type": "display_data"
    }
   ],
   "source": [
    "sns.countplot(x = 'Target', data=df)"
   ]
  },
  {
   "cell_type": "code",
   "execution_count": 7,
   "metadata": {},
   "outputs": [
    {
     "name": "stdout",
     "output_type": "stream",
     "text": [
      "True Positive in dataset 420\n",
      "False Positive in dataset 1557\n"
     ]
    }
   ],
   "source": [
    "'''\n",
    "Our Dataset was skewed as 4/5th of the data was 'False' and only 1/5th of the data was 'True'.\n",
    "trying WeightSampler: sequence of weights should correspond to your samples in the dataset\n",
    "\n",
    "'''\n",
    "\n",
    "print(\"True Positive in dataset\",len(df[df['Target']==True]))\n",
    "print(\"False Positive in dataset\",len(df[df['Target']==False]))"
   ]
  },
  {
   "cell_type": "code",
   "execution_count": 8,
   "metadata": {},
   "outputs": [],
   "source": [
    "data = df.iloc[:, 0:-1] #column[1,2,3]\n",
    "target = df.iloc[:, -1] #column[target]\n",
    "\n",
    "train_data=df.iloc[:1500,0:-1] #X_train[1-1500]\n",
    "train_target=df.iloc[:1500,-1] #y_train[1-1500]\n",
    "\n",
    "test_data=df.iloc[1500:,0:-1] #X_test[1500-end]\n",
    "test_target=df.iloc[1500:,-1] #y_test[1500-end]"
   ]
  },
  {
   "cell_type": "code",
   "execution_count": 9,
   "metadata": {},
   "outputs": [
    {
     "name": "stdout",
     "output_type": "stream",
     "text": [
      "Train_Features:  (1500, 3)\n",
      "Train Target:  (1500,)\n",
      "Test Features:  (477, 3)\n",
      "Test Target:  (477,)\n"
     ]
    }
   ],
   "source": [
    "print(\"Train_Features: \",train_data.shape) #3 columns\n",
    "print(\"Train Target: \",train_target.shape)\n",
    "print(\"Test Features: \",test_data.shape) #3 columns\n",
    "print(\"Test Target: \",test_target.shape)"
   ]
  },
  {
   "cell_type": "code",
   "execution_count": 10,
   "metadata": {},
   "outputs": [
    {
     "name": "stdout",
     "output_type": "stream",
     "text": [
      "torch.Size([1500, 3])\n",
      "torch.Size([477, 3])\n"
     ]
    }
   ],
   "source": [
    "train_data=torch.from_numpy(train_data.values).float()\n",
    "test_data=torch.from_numpy(test_data.values).float()\n",
    "#Datasets are ready\n",
    "print(train_data.shape)\n",
    "print(test_data.shape)"
   ]
  },
  {
   "cell_type": "code",
   "execution_count": 11,
   "metadata": {},
   "outputs": [
    {
     "name": "stdout",
     "output_type": "stream",
     "text": [
      "Train target train 0/1: 1170/330\n",
      "Test target train 0/1: 387/90\n"
     ]
    }
   ],
   "source": [
    "print ('Train target train 0/1: {}/{}'.format(\n",
    "    len(np.where(train_target == 0)[0]), len(np.where(train_target == 1)[0])))\n",
    "print ('Test target train 0/1: {}/{}'.format(\n",
    "    len(np.where(test_target == 0)[0]), len(np.where(test_target == 1)[0])))\n",
    "\n",
    "#Number of 0s and number of 1's on each train and test"
   ]
  },
  {
   "cell_type": "code",
   "execution_count": 12,
   "metadata": {},
   "outputs": [
    {
     "name": "stdout",
     "output_type": "stream",
     "text": [
      "[1170  330]\n",
      "[387  90]\n"
     ]
    }
   ],
   "source": [
    "train_class_sample_count = np.array(\n",
    "[len(np.where(train_target == t)[0]) for t in np.unique(train_target)])\n",
    "\n",
    "test_class_sample_count = np.array(\n",
    "[len(np.where(test_target == t)[0]) for t in np.unique(test_target)])\n",
    "\n",
    "print(train_class_sample_count)\n",
    "print(test_class_sample_count)"
   ]
  },
  {
   "cell_type": "code",
   "execution_count": 13,
   "metadata": {},
   "outputs": [
    {
     "name": "stdout",
     "output_type": "stream",
     "text": [
      "Total Train Weights:  1500\n",
      "Total Test Weights:  477\n"
     ]
    }
   ],
   "source": [
    "train_weight = 1./train_class_sample_count #weight for training example\n",
    "train_samples_weight=np.array([train_weight[t] for t in train_target]) #append weight to numpy with respect to label\n",
    "\n",
    "test_weight = 1. / test_class_sample_count #weight for testing example\n",
    "test_samples_weight = np.array([test_weight[t] for t in test_target])#append weight to numpy with respect to label\n",
    "print(\"Total Train Weights: \",len(train_samples_weight))\n",
    "print(\"Total Test Weights: \",len(test_samples_weight))"
   ]
  },
  {
   "cell_type": "code",
   "execution_count": 14,
   "metadata": {},
   "outputs": [
    {
     "name": "stdout",
     "output_type": "stream",
     "text": [
      "1500 torch.Size([1500])\n",
      "477 torch.Size([1500])\n"
     ]
    }
   ],
   "source": [
    "#converting numpy array to tensor\n",
    "train_samples_weight = torch.from_numpy(train_samples_weight)\n",
    "test_samples_weight = torch.from_numpy(test_samples_weight)\n",
    "print(len(train_samples_weight),train_samples_weight.shape)\n",
    "print(len(test_samples_weight),train_samples_weight.shape)\n"
   ]
  },
  {
   "cell_type": "code",
   "execution_count": 15,
   "metadata": {},
   "outputs": [
    {
     "name": "stdout",
     "output_type": "stream",
     "text": [
      "1500 torch.Size([1500])\n",
      "477 torch.Size([477])\n"
     ]
    }
   ],
   "source": [
    "#creating a weight sampler so that we can load our weights while using data loader\n",
    "train_sampler = torch.utils.data.sampler.WeightedRandomSampler(train_samples_weight, len(train_samples_weight))\n",
    "test_sampler = torch.utils.data.sampler.WeightedRandomSampler(test_samples_weight, len(test_samples_weight))\n",
    "\n",
    "#converting y_train and y_test from numpy to tensor\n",
    "train_target_ts=torch.from_numpy(np.array(train_target)).type(torch.FloatTensor)\n",
    "test_target_ts=torch.from_numpy(np.array(test_target)).type(torch.FloatTensor)\n",
    "print(len(train_target),train_target_ts.shape)\n",
    "print(len(test_target),test_target_ts.shape)"
   ]
  },
  {
   "cell_type": "code",
   "execution_count": 16,
   "metadata": {},
   "outputs": [],
   "source": [
    "train_dataset = torch.utils.data.TensorDataset(train_data, train_target_ts) #X_train y_train\n",
    "test_dataset=torch.utils.data.TensorDataset(test_data,test_target_ts) #X_test y_test"
   ]
  },
  {
   "cell_type": "code",
   "execution_count": 17,
   "metadata": {},
   "outputs": [
    {
     "name": "stdout",
     "output_type": "stream",
     "text": [
      "Training on GPU:  GeForce GTX 1050 Ti\n"
     ]
    }
   ],
   "source": [
    "\n",
    "#for training using device=GPU if CUDA is availabel\n",
    "device = torch.device(\"cuda:0\" if torch.cuda.is_available() else \"cpu\") \n",
    "print(\"Training on GPU: \",torch.cuda.get_device_name(device))\n",
    "\n",
    "\n",
    "batch_size=32\n",
    "learning_rate=0.001\n",
    "\n",
    "train_loader = DataLoader(\n",
    "    train_dataset, batch_size=32, num_workers=1, sampler=train_sampler)\n",
    "\n",
    "test_loader = DataLoader(\n",
    "    test_dataset, batch_size=32, num_workers=1, sampler=test_sampler)"
   ]
  },
  {
   "cell_type": "code",
   "execution_count": 18,
   "metadata": {},
   "outputs": [],
   "source": [
    "class binaryClassification(nn.Module):\n",
    "    def __init__(self):\n",
    "        super(binaryClassification, self).__init__()\n",
    "        self.layer_1 = nn.Linear(3, 16) \n",
    "        self.layer_2 = nn.Linear(16, 8)\n",
    "        self.layer_out = nn.Linear(8, 1) \n",
    "        self.relu = nn.ReLU()\n",
    "        \n",
    "    def forward(self, inputs):\n",
    "        x = self.relu(self.layer_1(inputs))\n",
    "        x = self.relu(self.layer_2(x))\n",
    "        x = self.layer_out(x)\n",
    "        \n",
    "        return x\n",
    "    \n",
    "def binary_acc(y_pred, y_test):\n",
    "    y_pred_tag = torch.round(torch.sigmoid(y_pred))\n",
    "    correct_results_sum = (y_pred_tag == y_test).sum().float()\n",
    "    acc = correct_results_sum/y_test.shape[0]\n",
    "    acc = torch.round(acc * 100)\n",
    "    return acc"
   ]
  },
  {
   "cell_type": "code",
   "execution_count": 19,
   "metadata": {},
   "outputs": [],
   "source": [
    "model = binaryClassification()\n",
    "criterion = nn.BCEWithLogitsLoss()\n",
    "optimizer = optim.Adam(model.parameters(), lr=learning_rate)"
   ]
  },
  {
   "cell_type": "code",
   "execution_count": 20,
   "metadata": {},
   "outputs": [
    {
     "name": "stdout",
     "output_type": "stream",
     "text": [
      "Epoch 001: | Loss: 0.67202 | Acc: 51.191\n",
      "Loss decreased (0.672020).  Saving model ...\n",
      "Epoch 002: | Loss: 0.65148 | Acc: 49.638\n",
      "Loss decreased (0.651483).  Saving model ...\n",
      "Epoch 003: | Loss: 0.63917 | Acc: 51.617\n",
      "Loss decreased (0.639173).  Saving model ...\n",
      "Epoch 004: | Loss: 0.63594 | Acc: 61.532\n",
      "Loss decreased (0.635939).  Saving model ...\n",
      "Epoch 005: | Loss: 0.61517 | Acc: 67.979\n",
      "Loss decreased (0.615170).  Saving model ...\n",
      "Epoch 006: | Loss: 0.60131 | Acc: 76.128\n",
      "Loss decreased (0.601308).  Saving model ...\n",
      "Epoch 007: | Loss: 0.57445 | Acc: 78.362\n",
      "Loss decreased (0.574446).  Saving model ...\n",
      "Epoch 008: | Loss: 0.54636 | Acc: 80.957\n",
      "Loss decreased (0.546359).  Saving model ...\n",
      "Epoch 009: | Loss: 0.50956 | Acc: 82.277\n",
      "Loss decreased (0.509557).  Saving model ...\n",
      "Epoch 010: | Loss: 0.50275 | Acc: 83.511\n",
      "Loss decreased (0.502751).  Saving model ...\n",
      "Epoch 011: | Loss: 0.47508 | Acc: 85.000\n",
      "Loss decreased (0.475082).  Saving model ...\n",
      "Epoch 012: | Loss: 0.43906 | Acc: 85.489\n",
      "Loss decreased (0.439057).  Saving model ...\n",
      "Epoch 013: | Loss: 0.43040 | Acc: 85.511\n",
      "Loss decreased (0.430400).  Saving model ...\n",
      "Epoch 014: | Loss: 0.42787 | Acc: 84.383\n",
      "Loss decreased (0.427873).  Saving model ...\n",
      "Epoch 015: | Loss: 0.41036 | Acc: 86.340\n",
      "Loss decreased (0.410356).  Saving model ...\n",
      "Epoch 016: | Loss: 0.39793 | Acc: 84.915\n",
      "Loss decreased (0.397933).  Saving model ...\n",
      "Epoch 017: | Loss: 0.42975 | Acc: 84.617\n",
      "Epoch 018: | Loss: 0.35897 | Acc: 87.723\n",
      "Loss decreased (0.358968).  Saving model ...\n",
      "Epoch 019: | Loss: 0.38968 | Acc: 87.043\n",
      "Epoch 020: | Loss: 0.35819 | Acc: 86.979\n",
      "Loss decreased (0.358189).  Saving model ...\n",
      "Epoch 021: | Loss: 0.40237 | Acc: 86.043\n",
      "Epoch 022: | Loss: 0.38723 | Acc: 86.064\n",
      "Epoch 023: | Loss: 0.36691 | Acc: 86.979\n",
      "Epoch 024: | Loss: 0.40014 | Acc: 86.191\n",
      "Epoch 025: | Loss: 0.36747 | Acc: 87.830\n",
      "Epoch 026: | Loss: 0.41486 | Acc: 85.745\n",
      "Epoch 027: | Loss: 0.39731 | Acc: 85.213\n",
      "Epoch 028: | Loss: 0.39215 | Acc: 85.851\n",
      "Epoch 029: | Loss: 0.39887 | Acc: 86.234\n",
      "Epoch 030: | Loss: 0.36705 | Acc: 87.128\n",
      "Epoch 031: | Loss: 0.37575 | Acc: 87.574\n",
      "Epoch 032: | Loss: 0.37534 | Acc: 86.468\n",
      "Epoch 033: | Loss: 0.35789 | Acc: 87.383\n",
      "Loss decreased (0.357891).  Saving model ...\n",
      "Epoch 034: | Loss: 0.38446 | Acc: 85.979\n",
      "Epoch 035: | Loss: 0.35592 | Acc: 88.234\n",
      "Loss decreased (0.355915).  Saving model ...\n",
      "Epoch 036: | Loss: 0.35906 | Acc: 87.468\n",
      "Epoch 037: | Loss: 0.36971 | Acc: 88.319\n",
      "Epoch 038: | Loss: 0.32526 | Acc: 88.723\n",
      "Loss decreased (0.325257).  Saving model ...\n",
      "Epoch 039: | Loss: 0.37645 | Acc: 88.511\n",
      "Epoch 040: | Loss: 0.40081 | Acc: 86.936\n",
      "Epoch 041: | Loss: 0.38548 | Acc: 86.979\n",
      "Epoch 042: | Loss: 0.35799 | Acc: 87.277\n",
      "Epoch 043: | Loss: 0.36898 | Acc: 87.830\n",
      "Epoch 044: | Loss: 0.37038 | Acc: 87.043\n",
      "Epoch 045: | Loss: 0.37488 | Acc: 88.170\n",
      "Epoch 046: | Loss: 0.34150 | Acc: 88.000\n",
      "Epoch 047: | Loss: 0.35569 | Acc: 88.830\n",
      "Epoch 048: | Loss: 0.35576 | Acc: 88.809\n",
      "Epoch 049: | Loss: 0.36902 | Acc: 89.106\n",
      "Epoch 050: | Loss: 0.35099 | Acc: 87.787\n",
      "Epoch 051: | Loss: 0.33914 | Acc: 88.766\n",
      "Epoch 052: | Loss: 0.35760 | Acc: 87.170\n",
      "Epoch 053: | Loss: 0.38406 | Acc: 86.000\n",
      "Epoch 054: | Loss: 0.37411 | Acc: 87.468\n",
      "Epoch 055: | Loss: 0.34592 | Acc: 89.128\n",
      "Epoch 056: | Loss: 0.36535 | Acc: 87.809\n",
      "Epoch 057: | Loss: 0.36985 | Acc: 88.319\n",
      "Epoch 058: | Loss: 0.36727 | Acc: 86.574\n",
      "Epoch 059: | Loss: 0.37915 | Acc: 87.340\n",
      "Epoch 060: | Loss: 0.36384 | Acc: 86.957\n",
      "Epoch 061: | Loss: 0.39397 | Acc: 87.957\n",
      "Epoch 062: | Loss: 0.34728 | Acc: 88.319\n",
      "Epoch 063: | Loss: 0.38659 | Acc: 88.000\n",
      "Epoch 064: | Loss: 0.33237 | Acc: 89.681\n",
      "Epoch 065: | Loss: 0.35280 | Acc: 89.106\n",
      "Epoch 066: | Loss: 0.36680 | Acc: 87.957\n",
      "Epoch 067: | Loss: 0.35729 | Acc: 88.915\n",
      "Epoch 068: | Loss: 0.34194 | Acc: 88.936\n",
      "Epoch 069: | Loss: 0.34949 | Acc: 88.000\n",
      "Epoch 070: | Loss: 0.32256 | Acc: 89.596\n",
      "Loss decreased (0.322557).  Saving model ...\n",
      "Epoch 071: | Loss: 0.33976 | Acc: 88.830\n",
      "Epoch 072: | Loss: 0.36252 | Acc: 88.915\n",
      "Epoch 073: | Loss: 0.38909 | Acc: 87.319\n",
      "Epoch 074: | Loss: 0.38546 | Acc: 86.766\n",
      "Epoch 075: | Loss: 0.34509 | Acc: 88.723\n",
      "Epoch 076: | Loss: 0.37160 | Acc: 88.191\n",
      "Epoch 077: | Loss: 0.35370 | Acc: 89.128\n",
      "Epoch 078: | Loss: 0.36594 | Acc: 87.702\n",
      "Epoch 079: | Loss: 0.36673 | Acc: 89.213\n",
      "Epoch 080: | Loss: 0.34323 | Acc: 89.000\n",
      "Epoch 081: | Loss: 0.37597 | Acc: 88.660\n",
      "Epoch 082: | Loss: 0.33539 | Acc: 89.532\n",
      "Epoch 083: | Loss: 0.35424 | Acc: 89.383\n",
      "Epoch 084: | Loss: 0.38279 | Acc: 87.489\n",
      "Epoch 085: | Loss: 0.33012 | Acc: 89.106\n",
      "Epoch 086: | Loss: 0.37219 | Acc: 88.574\n",
      "Epoch 087: | Loss: 0.32115 | Acc: 89.766\n",
      "Loss decreased (0.321148).  Saving model ...\n",
      "Epoch 088: | Loss: 0.34922 | Acc: 89.255\n",
      "Epoch 089: | Loss: 0.33917 | Acc: 89.681\n",
      "Epoch 090: | Loss: 0.36755 | Acc: 89.043\n",
      "Epoch 091: | Loss: 0.36496 | Acc: 88.638\n",
      "Epoch 092: | Loss: 0.33525 | Acc: 88.681\n",
      "Epoch 093: | Loss: 0.31230 | Acc: 91.596\n",
      "Loss decreased (0.312299).  Saving model ...\n",
      "Epoch 094: | Loss: 0.36441 | Acc: 89.064\n",
      "Epoch 095: | Loss: 0.32525 | Acc: 90.191\n",
      "Epoch 096: | Loss: 0.31580 | Acc: 90.787\n",
      "Epoch 097: | Loss: 0.36128 | Acc: 89.128\n",
      "Epoch 098: | Loss: 0.29879 | Acc: 90.766\n",
      "Loss decreased (0.298789).  Saving model ...\n",
      "Epoch 099: | Loss: 0.39836 | Acc: 87.979\n",
      "Epoch 100: | Loss: 0.34883 | Acc: 90.319\n",
      "Epoch 101: | Loss: 0.35421 | Acc: 90.170\n",
      "Epoch 102: | Loss: 0.37866 | Acc: 89.106\n",
      "Epoch 103: | Loss: 0.36624 | Acc: 89.426\n",
      "Epoch 104: | Loss: 0.31794 | Acc: 90.915\n",
      "Epoch 105: | Loss: 0.35040 | Acc: 89.277\n",
      "Epoch 106: | Loss: 0.31523 | Acc: 91.085\n",
      "Epoch 107: | Loss: 0.36421 | Acc: 88.638\n",
      "Epoch 108: | Loss: 0.34284 | Acc: 90.723\n",
      "Epoch 109: | Loss: 0.34219 | Acc: 89.574\n",
      "Epoch 110: | Loss: 0.35131 | Acc: 90.085\n",
      "Epoch 111: | Loss: 0.35819 | Acc: 90.511\n",
      "Epoch 112: | Loss: 0.31815 | Acc: 90.489\n",
      "Epoch 113: | Loss: 0.35884 | Acc: 89.553\n",
      "Epoch 114: | Loss: 0.33575 | Acc: 89.638\n",
      "Epoch 115: | Loss: 0.31386 | Acc: 90.830\n",
      "Epoch 116: | Loss: 0.31483 | Acc: 91.404\n",
      "Epoch 117: | Loss: 0.35553 | Acc: 90.170\n",
      "Epoch 118: | Loss: 0.34990 | Acc: 89.511\n",
      "Epoch 119: | Loss: 0.38144 | Acc: 89.489\n",
      "Epoch 120: | Loss: 0.34207 | Acc: 90.213\n",
      "Epoch 121: | Loss: 0.33521 | Acc: 91.511\n",
      "Epoch 122: | Loss: 0.31392 | Acc: 90.872\n",
      "Epoch 123: | Loss: 0.35045 | Acc: 90.511\n",
      "Epoch 124: | Loss: 0.33614 | Acc: 91.191\n",
      "Epoch 125: | Loss: 0.34069 | Acc: 91.000\n",
      "Epoch 126: | Loss: 0.32914 | Acc: 92.660\n",
      "Epoch 127: | Loss: 0.32761 | Acc: 92.170\n",
      "Epoch 128: | Loss: 0.31367 | Acc: 90.553\n",
      "Epoch 129: | Loss: 0.30893 | Acc: 91.787\n",
      "Epoch 130: | Loss: 0.36838 | Acc: 89.830\n",
      "Epoch 131: | Loss: 0.37319 | Acc: 90.043\n",
      "Epoch 132: | Loss: 0.33377 | Acc: 92.319\n",
      "Epoch 133: | Loss: 0.32915 | Acc: 91.362\n",
      "Epoch 134: | Loss: 0.33023 | Acc: 91.894\n",
      "Epoch 135: | Loss: 0.37644 | Acc: 88.915\n",
      "Epoch 136: | Loss: 0.28641 | Acc: 93.021\n",
      "Loss decreased (0.286413).  Saving model ...\n",
      "Epoch 137: | Loss: 0.33986 | Acc: 92.000\n",
      "Epoch 138: | Loss: 0.28862 | Acc: 92.809\n",
      "Epoch 139: | Loss: 0.33686 | Acc: 91.766\n",
      "Epoch 140: | Loss: 0.32264 | Acc: 91.213\n",
      "Epoch 141: | Loss: 0.30716 | Acc: 92.681\n",
      "Epoch 142: | Loss: 0.33765 | Acc: 91.234\n",
      "Epoch 143: | Loss: 0.35160 | Acc: 91.043\n",
      "Epoch 144: | Loss: 0.28046 | Acc: 92.787\n",
      "Loss decreased (0.280460).  Saving model ...\n",
      "Epoch 145: | Loss: 0.35887 | Acc: 90.830\n",
      "Epoch 146: | Loss: 0.29264 | Acc: 92.638\n",
      "Epoch 147: | Loss: 0.32038 | Acc: 92.532\n",
      "Epoch 148: | Loss: 0.35938 | Acc: 91.170\n",
      "Epoch 149: | Loss: 0.29268 | Acc: 93.149\n",
      "Epoch 150: | Loss: 0.32735 | Acc: 91.362\n",
      "Epoch 151: | Loss: 0.30440 | Acc: 92.043\n",
      "Epoch 152: | Loss: 0.31337 | Acc: 92.660\n",
      "Epoch 153: | Loss: 0.32774 | Acc: 91.064\n",
      "Epoch 154: | Loss: 0.31604 | Acc: 92.447\n",
      "Epoch 155: | Loss: 0.29900 | Acc: 92.489\n",
      "Epoch 156: | Loss: 0.30925 | Acc: 92.447\n",
      "Epoch 157: | Loss: 0.29641 | Acc: 93.660\n",
      "Epoch 158: | Loss: 0.31955 | Acc: 91.234\n",
      "Epoch 159: | Loss: 0.30777 | Acc: 93.660\n",
      "Epoch 160: | Loss: 0.27107 | Acc: 94.234\n",
      "Loss decreased (0.271073).  Saving model ...\n",
      "Epoch 161: | Loss: 0.31475 | Acc: 92.213\n",
      "Epoch 162: | Loss: 0.26261 | Acc: 93.702\n",
      "Loss decreased (0.262606).  Saving model ...\n",
      "Epoch 163: | Loss: 0.30582 | Acc: 92.957\n",
      "Epoch 164: | Loss: 0.31294 | Acc: 92.170\n",
      "Epoch 165: | Loss: 0.28981 | Acc: 93.277\n",
      "Epoch 166: | Loss: 0.32817 | Acc: 92.574\n",
      "Epoch 167: | Loss: 0.28286 | Acc: 93.979\n",
      "Epoch 168: | Loss: 0.27103 | Acc: 94.745\n"
     ]
    },
    {
     "name": "stdout",
     "output_type": "stream",
     "text": [
      "Epoch 169: | Loss: 0.30779 | Acc: 92.319\n",
      "Epoch 170: | Loss: 0.30782 | Acc: 92.723\n",
      "Epoch 171: | Loss: 0.28600 | Acc: 93.383\n",
      "Epoch 172: | Loss: 0.31271 | Acc: 92.745\n",
      "Epoch 173: | Loss: 0.27295 | Acc: 93.851\n",
      "Epoch 174: | Loss: 0.30145 | Acc: 93.511\n",
      "Epoch 175: | Loss: 0.34892 | Acc: 91.511\n",
      "Epoch 176: | Loss: 0.30671 | Acc: 93.043\n",
      "Epoch 177: | Loss: 0.30824 | Acc: 92.979\n",
      "Epoch 178: | Loss: 0.28186 | Acc: 93.191\n",
      "Epoch 179: | Loss: 0.26371 | Acc: 94.106\n",
      "Epoch 180: | Loss: 0.31873 | Acc: 92.532\n",
      "Epoch 181: | Loss: 0.28967 | Acc: 93.298\n",
      "Epoch 182: | Loss: 0.27455 | Acc: 93.660\n",
      "Epoch 183: | Loss: 0.29293 | Acc: 92.979\n",
      "Epoch 184: | Loss: 0.25969 | Acc: 94.596\n",
      "Loss decreased (0.259685).  Saving model ...\n",
      "Epoch 185: | Loss: 0.28564 | Acc: 94.213\n",
      "Epoch 186: | Loss: 0.26431 | Acc: 92.745\n",
      "Epoch 187: | Loss: 0.23924 | Acc: 94.872\n",
      "Loss decreased (0.239243).  Saving model ...\n",
      "Epoch 188: | Loss: 0.31536 | Acc: 92.298\n",
      "Epoch 189: | Loss: 0.31830 | Acc: 91.830\n",
      "Epoch 190: | Loss: 0.27943 | Acc: 93.149\n",
      "Epoch 191: | Loss: 0.28130 | Acc: 93.404\n",
      "Epoch 192: | Loss: 0.24885 | Acc: 93.894\n",
      "Epoch 193: | Loss: 0.31149 | Acc: 93.596\n",
      "Epoch 194: | Loss: 0.28123 | Acc: 93.213\n",
      "Epoch 195: | Loss: 0.27243 | Acc: 93.489\n",
      "Epoch 196: | Loss: 0.24313 | Acc: 94.043\n",
      "Epoch 197: | Loss: 0.30498 | Acc: 92.298\n",
      "Epoch 198: | Loss: 0.28488 | Acc: 93.468\n",
      "Epoch 199: | Loss: 0.29322 | Acc: 92.553\n",
      "Epoch 200: | Loss: 0.26572 | Acc: 94.043\n",
      "Epoch 201: | Loss: 0.28211 | Acc: 92.298\n",
      "Epoch 202: | Loss: 0.24916 | Acc: 94.000\n",
      "Epoch 203: | Loss: 0.23834 | Acc: 94.064\n",
      "Loss decreased (0.238335).  Saving model ...\n",
      "Epoch 204: | Loss: 0.25623 | Acc: 94.043\n",
      "Epoch 205: | Loss: 0.24616 | Acc: 94.213\n",
      "Epoch 206: | Loss: 0.26092 | Acc: 93.128\n",
      "Epoch 207: | Loss: 0.26717 | Acc: 93.149\n",
      "Epoch 208: | Loss: 0.25227 | Acc: 94.255\n",
      "Epoch 209: | Loss: 0.23678 | Acc: 94.064\n",
      "Loss decreased (0.236783).  Saving model ...\n",
      "Epoch 210: | Loss: 0.20510 | Acc: 95.277\n",
      "Loss decreased (0.205095).  Saving model ...\n",
      "Epoch 211: | Loss: 0.29326 | Acc: 92.298\n",
      "Epoch 212: | Loss: 0.24271 | Acc: 93.894\n",
      "Epoch 213: | Loss: 0.25270 | Acc: 93.872\n",
      "Epoch 214: | Loss: 0.23064 | Acc: 94.511\n",
      "Epoch 215: | Loss: 0.20685 | Acc: 95.617\n",
      "Epoch 216: | Loss: 0.26918 | Acc: 92.532\n",
      "Epoch 217: | Loss: 0.23719 | Acc: 93.787\n",
      "Epoch 218: | Loss: 0.30491 | Acc: 91.957\n",
      "Epoch 219: | Loss: 0.23658 | Acc: 94.702\n",
      "Epoch 220: | Loss: 0.27795 | Acc: 92.383\n",
      "Epoch 221: | Loss: 0.23924 | Acc: 94.213\n",
      "Epoch 222: | Loss: 0.23153 | Acc: 94.319\n",
      "Epoch 223: | Loss: 0.23962 | Acc: 94.128\n",
      "Epoch 224: | Loss: 0.22360 | Acc: 94.191\n",
      "Epoch 225: | Loss: 0.25973 | Acc: 93.255\n",
      "Epoch 226: | Loss: 0.22948 | Acc: 94.553\n",
      "Epoch 227: | Loss: 0.24826 | Acc: 93.447\n",
      "Epoch 228: | Loss: 0.23283 | Acc: 93.979\n",
      "Epoch 229: | Loss: 0.26657 | Acc: 93.213\n",
      "Epoch 230: | Loss: 0.20543 | Acc: 95.149\n",
      "Epoch 231: | Loss: 0.23211 | Acc: 93.574\n",
      "Epoch 232: | Loss: 0.21229 | Acc: 94.979\n",
      "Epoch 233: | Loss: 0.22600 | Acc: 94.404\n",
      "Epoch 234: | Loss: 0.25339 | Acc: 92.660\n",
      "Epoch 235: | Loss: 0.20834 | Acc: 95.681\n",
      "Epoch 236: | Loss: 0.23631 | Acc: 93.787\n",
      "Epoch 237: | Loss: 0.23600 | Acc: 93.298\n",
      "Epoch 238: | Loss: 0.21930 | Acc: 94.809\n",
      "Epoch 239: | Loss: 0.21051 | Acc: 94.617\n",
      "Epoch 240: | Loss: 0.20342 | Acc: 94.596\n",
      "Loss decreased (0.203418).  Saving model ...\n",
      "Epoch 241: | Loss: 0.19470 | Acc: 95.745\n",
      "Loss decreased (0.194695).  Saving model ...\n",
      "Epoch 242: | Loss: 0.22490 | Acc: 93.277\n",
      "Epoch 243: | Loss: 0.25236 | Acc: 93.085\n",
      "Epoch 244: | Loss: 0.21460 | Acc: 94.234\n",
      "Epoch 245: | Loss: 0.19269 | Acc: 95.574\n",
      "Loss decreased (0.192688).  Saving model ...\n",
      "Epoch 246: | Loss: 0.21279 | Acc: 94.170\n",
      "Epoch 247: | Loss: 0.22035 | Acc: 94.128\n",
      "Epoch 248: | Loss: 0.20017 | Acc: 94.170\n",
      "Epoch 249: | Loss: 0.20424 | Acc: 94.617\n",
      "Epoch 250: | Loss: 0.21160 | Acc: 93.957\n",
      "Epoch 251: | Loss: 0.20204 | Acc: 95.191\n",
      "Epoch 252: | Loss: 0.19849 | Acc: 94.979\n",
      "Epoch 253: | Loss: 0.20128 | Acc: 94.851\n",
      "Epoch 254: | Loss: 0.20335 | Acc: 94.191\n",
      "Epoch 255: | Loss: 0.20114 | Acc: 94.660\n",
      "Epoch 256: | Loss: 0.19241 | Acc: 94.851\n",
      "Loss decreased (0.192414).  Saving model ...\n",
      "Epoch 257: | Loss: 0.19840 | Acc: 94.702\n",
      "Epoch 258: | Loss: 0.20031 | Acc: 94.702\n",
      "Epoch 259: | Loss: 0.17249 | Acc: 95.511\n",
      "Loss decreased (0.172492).  Saving model ...\n",
      "Epoch 260: | Loss: 0.17761 | Acc: 95.191\n",
      "Epoch 261: | Loss: 0.17789 | Acc: 95.851\n",
      "Epoch 262: | Loss: 0.17856 | Acc: 95.511\n",
      "Epoch 263: | Loss: 0.20462 | Acc: 94.064\n",
      "Epoch 264: | Loss: 0.18747 | Acc: 95.085\n",
      "Epoch 265: | Loss: 0.22065 | Acc: 93.170\n",
      "Epoch 266: | Loss: 0.18116 | Acc: 94.979\n",
      "Epoch 267: | Loss: 0.19849 | Acc: 94.426\n",
      "Epoch 268: | Loss: 0.16307 | Acc: 95.915\n",
      "Loss decreased (0.163074).  Saving model ...\n",
      "Epoch 269: | Loss: 0.17399 | Acc: 95.213\n",
      "Epoch 270: | Loss: 0.18804 | Acc: 95.213\n",
      "Epoch 271: | Loss: 0.18647 | Acc: 94.426\n",
      "Epoch 272: | Loss: 0.17461 | Acc: 95.064\n",
      "Epoch 273: | Loss: 0.20501 | Acc: 94.234\n",
      "Epoch 274: | Loss: 0.16022 | Acc: 95.702\n",
      "Loss decreased (0.160225).  Saving model ...\n",
      "Epoch 275: | Loss: 0.18538 | Acc: 93.936\n",
      "Epoch 276: | Loss: 0.16796 | Acc: 95.319\n",
      "Epoch 277: | Loss: 0.23188 | Acc: 92.021\n",
      "Epoch 278: | Loss: 0.34643 | Acc: 91.298\n",
      "Epoch 279: | Loss: 0.21609 | Acc: 95.255\n",
      "Epoch 280: | Loss: 0.18716 | Acc: 95.298\n",
      "Epoch 281: | Loss: 0.16872 | Acc: 95.426\n",
      "Epoch 282: | Loss: 0.19092 | Acc: 94.638\n",
      "Epoch 283: | Loss: 0.18473 | Acc: 94.532\n",
      "Epoch 284: | Loss: 0.17546 | Acc: 95.043\n",
      "Epoch 285: | Loss: 0.16593 | Acc: 95.298\n",
      "Epoch 286: | Loss: 0.15350 | Acc: 96.149\n",
      "Loss decreased (0.153502).  Saving model ...\n",
      "Epoch 287: | Loss: 0.18301 | Acc: 94.894\n",
      "Epoch 288: | Loss: 0.17455 | Acc: 95.021\n",
      "Epoch 289: | Loss: 0.19289 | Acc: 94.234\n",
      "Epoch 290: | Loss: 0.15775 | Acc: 95.532\n",
      "Epoch 291: | Loss: 0.17971 | Acc: 94.894\n",
      "Epoch 292: | Loss: 0.16327 | Acc: 95.362\n",
      "Epoch 293: | Loss: 0.18644 | Acc: 94.255\n",
      "Epoch 294: | Loss: 0.17979 | Acc: 94.021\n",
      "Epoch 295: | Loss: 0.15266 | Acc: 95.957\n",
      "Loss decreased (0.152663).  Saving model ...\n",
      "Epoch 296: | Loss: 0.15379 | Acc: 95.702\n",
      "Epoch 297: | Loss: 0.15881 | Acc: 95.574\n",
      "Epoch 298: | Loss: 0.17609 | Acc: 95.021\n",
      "Epoch 299: | Loss: 0.16019 | Acc: 96.191\n",
      "Epoch 300: | Loss: 0.15503 | Acc: 95.298\n",
      "Epoch 301: | Loss: 0.16785 | Acc: 95.000\n",
      "Epoch 302: | Loss: 0.15039 | Acc: 96.128\n",
      "Loss decreased (0.150392).  Saving model ...\n",
      "Epoch 303: | Loss: 0.14644 | Acc: 95.553\n",
      "Loss decreased (0.146438).  Saving model ...\n",
      "Epoch 304: | Loss: 0.15532 | Acc: 96.106\n",
      "Epoch 305: | Loss: 0.14980 | Acc: 95.574\n",
      "Epoch 306: | Loss: 0.16874 | Acc: 94.787\n",
      "Epoch 307: | Loss: 0.16451 | Acc: 95.234\n",
      "Epoch 308: | Loss: 0.25463 | Acc: 91.872\n",
      "Epoch 309: | Loss: 0.28750 | Acc: 94.851\n",
      "Epoch 310: | Loss: 0.21352 | Acc: 95.511\n",
      "Epoch 311: | Loss: 0.15512 | Acc: 95.638\n",
      "Epoch 312: | Loss: 0.16709 | Acc: 95.638\n",
      "Epoch 313: | Loss: 0.15356 | Acc: 95.936\n",
      "Epoch 314: | Loss: 0.15483 | Acc: 96.000\n",
      "Epoch 315: | Loss: 0.14575 | Acc: 95.979\n",
      "Loss decreased (0.145754).  Saving model ...\n",
      "Epoch 316: | Loss: 0.15515 | Acc: 95.979\n",
      "Epoch 317: | Loss: 0.16790 | Acc: 94.766\n",
      "Epoch 318: | Loss: 0.16023 | Acc: 95.511\n",
      "Epoch 319: | Loss: 0.16310 | Acc: 95.106\n",
      "Epoch 320: | Loss: 0.17090 | Acc: 95.255\n",
      "Epoch 321: | Loss: 0.16202 | Acc: 94.872\n",
      "Epoch 322: | Loss: 0.17508 | Acc: 94.745\n",
      "Epoch 323: | Loss: 0.15467 | Acc: 95.511\n",
      "Epoch 324: | Loss: 0.14944 | Acc: 95.340\n",
      "Epoch 325: | Loss: 0.15175 | Acc: 95.553\n",
      "Epoch 326: | Loss: 0.19342 | Acc: 94.511\n",
      "Epoch 327: | Loss: 0.31036 | Acc: 92.170\n",
      "Epoch 328: | Loss: 0.21213 | Acc: 95.553\n",
      "Epoch 329: | Loss: 0.18071 | Acc: 95.106\n",
      "Epoch 330: | Loss: 0.14203 | Acc: 96.128\n",
      "Loss decreased (0.142031).  Saving model ...\n",
      "Epoch 331: | Loss: 0.15186 | Acc: 96.106\n",
      "Epoch 332: | Loss: 0.13759 | Acc: 96.596\n",
      "Loss decreased (0.137589).  Saving model ...\n",
      "Epoch 333: | Loss: 0.14237 | Acc: 96.532\n",
      "Epoch 334: | Loss: 0.15386 | Acc: 95.894\n",
      "Epoch 335: | Loss: 0.15556 | Acc: 95.489\n",
      "Epoch 336: | Loss: 0.15930 | Acc: 95.404\n",
      "Epoch 337: | Loss: 0.13058 | Acc: 96.787\n",
      "Loss decreased (0.130578).  Saving model ...\n",
      "Epoch 338: | Loss: 0.15424 | Acc: 96.170\n",
      "Epoch 339: | Loss: 0.16019 | Acc: 95.447\n",
      "Epoch 340: | Loss: 0.16305 | Acc: 95.255\n",
      "Epoch 341: | Loss: 0.15760 | Acc: 95.447\n",
      "Epoch 342: | Loss: 0.13911 | Acc: 96.000\n",
      "Epoch 343: | Loss: 0.28126 | Acc: 91.936\n",
      "Epoch 344: | Loss: 0.21678 | Acc: 95.745\n",
      "Epoch 345: | Loss: 0.13164 | Acc: 97.128\n",
      "Epoch 346: | Loss: 0.17841 | Acc: 95.000\n"
     ]
    },
    {
     "name": "stdout",
     "output_type": "stream",
     "text": [
      "Epoch 347: | Loss: 0.14130 | Acc: 96.298\n",
      "Epoch 348: | Loss: 0.14390 | Acc: 96.468\n",
      "Epoch 349: | Loss: 0.13476 | Acc: 96.660\n",
      "Epoch 350: | Loss: 0.15106 | Acc: 95.383\n",
      "Epoch 351: | Loss: 0.14704 | Acc: 95.851\n",
      "Epoch 352: | Loss: 0.16198 | Acc: 95.447\n",
      "Epoch 353: | Loss: 0.14840 | Acc: 95.787\n",
      "Epoch 354: | Loss: 0.14968 | Acc: 95.702\n",
      "Epoch 355: | Loss: 0.15432 | Acc: 96.149\n",
      "Epoch 356: | Loss: 0.14063 | Acc: 95.809\n",
      "Epoch 357: | Loss: 0.16672 | Acc: 94.872\n",
      "Epoch 358: | Loss: 0.27285 | Acc: 92.383\n",
      "Epoch 359: | Loss: 0.26655 | Acc: 95.340\n",
      "Epoch 360: | Loss: 0.20005 | Acc: 94.213\n",
      "Epoch 361: | Loss: 0.15690 | Acc: 95.234\n",
      "Epoch 362: | Loss: 0.12380 | Acc: 97.191\n",
      "Loss decreased (0.123803).  Saving model ...\n",
      "Epoch 363: | Loss: 0.16333 | Acc: 96.021\n",
      "Epoch 364: | Loss: 0.13161 | Acc: 96.979\n",
      "Epoch 365: | Loss: 0.16262 | Acc: 94.702\n",
      "Epoch 366: | Loss: 0.14181 | Acc: 96.213\n",
      "Epoch 367: | Loss: 0.15460 | Acc: 94.957\n",
      "Epoch 368: | Loss: 0.12840 | Acc: 96.149\n",
      "Epoch 369: | Loss: 0.16677 | Acc: 95.021\n",
      "Epoch 370: | Loss: 0.14182 | Acc: 95.872\n",
      "Epoch 371: | Loss: 0.14174 | Acc: 96.255\n",
      "Epoch 372: | Loss: 0.13306 | Acc: 96.532\n",
      "Epoch 373: | Loss: 0.14195 | Acc: 96.106\n",
      "Epoch 374: | Loss: 0.15440 | Acc: 95.383\n",
      "Epoch 375: | Loss: 0.25422 | Acc: 92.681\n",
      "Epoch 376: | Loss: 0.23149 | Acc: 94.936\n",
      "Epoch 377: | Loss: 0.18622 | Acc: 95.766\n",
      "Epoch 378: | Loss: 0.15946 | Acc: 95.553\n",
      "Epoch 379: | Loss: 0.16068 | Acc: 95.106\n",
      "Epoch 380: | Loss: 0.15373 | Acc: 95.234\n",
      "Epoch 381: | Loss: 0.14895 | Acc: 95.979\n",
      "Epoch 382: | Loss: 0.14702 | Acc: 95.383\n",
      "Epoch 383: | Loss: 0.14748 | Acc: 95.660\n",
      "Epoch 384: | Loss: 0.14762 | Acc: 95.511\n",
      "Epoch 385: | Loss: 0.12919 | Acc: 96.511\n",
      "Epoch 386: | Loss: 0.13775 | Acc: 95.894\n",
      "Epoch 387: | Loss: 0.13238 | Acc: 96.426\n",
      "Epoch 388: | Loss: 0.14441 | Acc: 96.404\n",
      "Epoch 389: | Loss: 0.26795 | Acc: 92.872\n",
      "Epoch 390: | Loss: 0.23130 | Acc: 95.106\n",
      "Epoch 391: | Loss: 0.17733 | Acc: 94.809\n",
      "Epoch 392: | Loss: 0.13762 | Acc: 96.596\n",
      "Epoch 393: | Loss: 0.15809 | Acc: 95.596\n",
      "Epoch 394: | Loss: 0.14491 | Acc: 95.915\n",
      "Epoch 395: | Loss: 0.12495 | Acc: 96.617\n",
      "Epoch 396: | Loss: 0.13629 | Acc: 96.213\n",
      "Epoch 397: | Loss: 0.14065 | Acc: 95.383\n",
      "Epoch 398: | Loss: 0.12768 | Acc: 96.447\n",
      "Epoch 399: | Loss: 0.13561 | Acc: 96.191\n",
      "Epoch 400: | Loss: 0.13180 | Acc: 97.064\n"
     ]
    }
   ],
   "source": [
    "model=model.to(device)\n",
    "model.train()\n",
    "epochs = 400\n",
    "epoch_loss_min=np.Inf\n",
    "for e in range(1, epochs+1):\n",
    "    epoch_loss = 0\n",
    "    epoch_acc = 0\n",
    "    for X_batch, y_batch in train_loader:\n",
    "        X_batch, y_batch = X_batch.to(device), y_batch.to(device)\n",
    "        optimizer.zero_grad()\n",
    "        \n",
    "        y_pred = model(X_batch)\n",
    "        \n",
    "        loss = criterion(y_pred, y_batch.unsqueeze(1))\n",
    "        acc = binary_acc(y_pred, y_batch.unsqueeze(1))\n",
    "        \n",
    "        loss.backward()\n",
    "        optimizer.step()\n",
    "        epoch_loss += loss.item()\n",
    "        epoch_acc += acc.item()\n",
    "    print(f'Epoch {e+0:03}: | Loss: {epoch_loss/len(train_loader):.5f} | Acc: {epoch_acc/len(train_loader):.3f}')\n",
    "    if epoch_loss <= epoch_loss_min:\n",
    "        print('Loss decreased ({:.6f}).  Saving model ...'.format(\n",
    "        epoch_loss/len(train_loader)))\n",
    "        torch.save(model.state_dict(), 'challenge_2.pt')\n",
    "        epoch_loss_min = epoch_loss"
   ]
  },
  {
   "cell_type": "code",
   "execution_count": 43,
   "metadata": {},
   "outputs": [
    {
     "data": {
      "text/plain": [
       "<All keys matched successfully>"
      ]
     },
     "execution_count": 43,
     "metadata": {},
     "output_type": "execute_result"
    }
   ],
   "source": [
    "model.load_state_dict(torch.load('challenge_2.pt'))\n",
    "#loading saved model"
   ]
  },
  {
   "cell_type": "code",
   "execution_count": 126,
   "metadata": {},
   "outputs": [],
   "source": [
    "y_pred_list = []\n",
    "model.eval()\n",
    "with torch.no_grad():\n",
    "    for data, target in test_loader:\n",
    "        #print(type(data))\n",
    "        #print(type(target))\n",
    "        data,target=data.to(device),target.to(device)\n",
    "        y_test_pred = model(data)\n",
    "        y_test_pred = torch.sigmoid(y_test_pred)\n",
    "        y_pred_tag = torch.round(y_test_pred)\n",
    "        y_pred_list.append(y_pred_tag.cpu().numpy())\n",
    "        #print(\"========\")\n",
    "prediction=[]\n",
    "for i in range(len(y_pred_list)):\n",
    "    for j in range(len(y_pred_list[i])):\n",
    "        for k in range(len(y_pred_list[i][j])):\n",
    "            prediction.append(int(y_pred_list[i][j][k]))\n",
    "target=np.array(test_target)"
   ]
  },
  {
   "cell_type": "code",
   "execution_count": 127,
   "metadata": {},
   "outputs": [
    {
     "data": {
      "text/plain": [
       "array([[209, 178],\n",
       "       [ 44,  46]])"
      ]
     },
     "execution_count": 127,
     "metadata": {},
     "output_type": "execute_result"
    }
   ],
   "source": [
    "'''\n",
    "Confusion Matrix\n",
    "[True Positives, False Positive]\n",
    "[False Negative, True Negatives]\n",
    "'''\n",
    "\n",
    "confusion_matrix(target, prediction)"
   ]
  },
  {
   "cell_type": "code",
   "execution_count": 128,
   "metadata": {},
   "outputs": [
    {
     "name": "stdout",
     "output_type": "stream",
     "text": [
      "              precision    recall  f1-score   support\n",
      "\n",
      "           0       0.83      0.54      0.65       387\n",
      "           1       0.21      0.51      0.29        90\n",
      "\n",
      "    accuracy                           0.53       477\n",
      "   macro avg       0.52      0.53      0.47       477\n",
      "weighted avg       0.71      0.53      0.59       477\n",
      "\n"
     ]
    }
   ],
   "source": [
    "print(classification_report(test_target, prediction))"
   ]
  },
  {
   "cell_type": "code",
   "execution_count": 129,
   "metadata": {},
   "outputs": [
    {
     "data": {
      "text/plain": [
       "\"\\nData is highly imbalanced as only 1/5th of the data looks to be True and 4/5th of the data seems to be False.\\n\\nI've already tried using Logistic Regression but False Postive were more than False Negative as data was\\nskewed to False.\\n\\nI've also tried using Neural Net with default weights initialization, result was same.\\n\\n\""
      ]
     },
     "execution_count": 129,
     "metadata": {},
     "output_type": "execute_result"
    }
   ],
   "source": [
    "'''\n",
    "Data is highly imbalanced as only 1/5th of the data looks to be True and 4/5th of the data seems to be False.\n",
    "\n",
    "I've already tried using Logistic Regression but False Postive were more than False Negative as data was\n",
    "skewed to False.\n",
    "\n",
    "I've also tried using Neural Net with default weights initialization, result was same.\n",
    "\n",
    "'''"
   ]
  },
  {
   "cell_type": "code",
   "execution_count": null,
   "metadata": {},
   "outputs": [],
   "source": []
  },
  {
   "cell_type": "code",
   "execution_count": null,
   "metadata": {},
   "outputs": [],
   "source": []
  },
  {
   "cell_type": "code",
   "execution_count": null,
   "metadata": {},
   "outputs": [],
   "source": []
  },
  {
   "cell_type": "code",
   "execution_count": 130,
   "metadata": {},
   "outputs": [
    {
     "data": {
      "text/html": [
       "<div>\n",
       "<style scoped>\n",
       "    .dataframe tbody tr th:only-of-type {\n",
       "        vertical-align: middle;\n",
       "    }\n",
       "\n",
       "    .dataframe tbody tr th {\n",
       "        vertical-align: top;\n",
       "    }\n",
       "\n",
       "    .dataframe thead th {\n",
       "        text-align: right;\n",
       "    }\n",
       "</style>\n",
       "<table border=\"1\" class=\"dataframe\">\n",
       "  <thead>\n",
       "    <tr style=\"text-align: right;\">\n",
       "      <th></th>\n",
       "      <th>1</th>\n",
       "      <th>2</th>\n",
       "      <th>3</th>\n",
       "      <th>Target</th>\n",
       "    </tr>\n",
       "  </thead>\n",
       "  <tbody>\n",
       "    <tr>\n",
       "      <th>0</th>\n",
       "      <td>0.60</td>\n",
       "      <td>0.31</td>\n",
       "      <td>13.0</td>\n",
       "      <td>0</td>\n",
       "    </tr>\n",
       "    <tr>\n",
       "      <th>1</th>\n",
       "      <td>0.74</td>\n",
       "      <td>0.33</td>\n",
       "      <td>21.0</td>\n",
       "      <td>0</td>\n",
       "    </tr>\n",
       "    <tr>\n",
       "      <th>4</th>\n",
       "      <td>0.77</td>\n",
       "      <td>0.15</td>\n",
       "      <td>15.0</td>\n",
       "      <td>1</td>\n",
       "    </tr>\n",
       "    <tr>\n",
       "      <th>5</th>\n",
       "      <td>0.46</td>\n",
       "      <td>0.17</td>\n",
       "      <td>18.0</td>\n",
       "      <td>0</td>\n",
       "    </tr>\n",
       "    <tr>\n",
       "      <th>6</th>\n",
       "      <td>0.49</td>\n",
       "      <td>0.26</td>\n",
       "      <td>10.0</td>\n",
       "      <td>0</td>\n",
       "    </tr>\n",
       "  </tbody>\n",
       "</table>\n",
       "</div>"
      ],
      "text/plain": [
       "      1     2     3  Target\n",
       "0  0.60  0.31  13.0       0\n",
       "1  0.74  0.33  21.0       0\n",
       "4  0.77  0.15  15.0       1\n",
       "5  0.46  0.17  18.0       0\n",
       "6  0.49  0.26  10.0       0"
      ]
     },
     "execution_count": 130,
     "metadata": {},
     "output_type": "execute_result"
    }
   ],
   "source": [
    "#Trying k-Nearest Neighbors \n",
    "df = pd.read_csv(os.getcwd()+'/data/challenge_2/challenge2_dataset.csv')\n",
    "#droping column 'unnamed: 0' and data rows with value 'NaN'\n",
    "df.drop('Unnamed: 0',axis=1,inplace=True)\n",
    "df.dropna(subset=['Target','1','2','3'],inplace=True)\n",
    "\n",
    "#replace Flase with 0 and True with 1\n",
    "binary_class={False:int(0),True:int(1)}\n",
    "df['Target'].replace(binary_class,inplace=True)\n",
    "df.head()"
   ]
  },
  {
   "cell_type": "code",
   "execution_count": 131,
   "metadata": {},
   "outputs": [],
   "source": [
    "scaler = StandardScaler()\n",
    "scaler.fit(df.drop('Target',axis=1))\n",
    "scaled_features = scaler.transform(df.drop('Target',axis=1))"
   ]
  },
  {
   "cell_type": "code",
   "execution_count": 132,
   "metadata": {},
   "outputs": [
    {
     "data": {
      "text/html": [
       "<div>\n",
       "<style scoped>\n",
       "    .dataframe tbody tr th:only-of-type {\n",
       "        vertical-align: middle;\n",
       "    }\n",
       "\n",
       "    .dataframe tbody tr th {\n",
       "        vertical-align: top;\n",
       "    }\n",
       "\n",
       "    .dataframe thead th {\n",
       "        text-align: right;\n",
       "    }\n",
       "</style>\n",
       "<table border=\"1\" class=\"dataframe\">\n",
       "  <thead>\n",
       "    <tr style=\"text-align: right;\">\n",
       "      <th></th>\n",
       "      <th>1</th>\n",
       "      <th>2</th>\n",
       "      <th>3</th>\n",
       "    </tr>\n",
       "  </thead>\n",
       "  <tbody>\n",
       "    <tr>\n",
       "      <th>0</th>\n",
       "      <td>-0.040305</td>\n",
       "      <td>-0.024599</td>\n",
       "      <td>-0.078238</td>\n",
       "    </tr>\n",
       "    <tr>\n",
       "      <th>1</th>\n",
       "      <td>-0.034006</td>\n",
       "      <td>-0.024258</td>\n",
       "      <td>0.109705</td>\n",
       "    </tr>\n",
       "    <tr>\n",
       "      <th>2</th>\n",
       "      <td>-0.032656</td>\n",
       "      <td>-0.027327</td>\n",
       "      <td>-0.031253</td>\n",
       "    </tr>\n",
       "    <tr>\n",
       "      <th>3</th>\n",
       "      <td>-0.046605</td>\n",
       "      <td>-0.026986</td>\n",
       "      <td>0.039226</td>\n",
       "    </tr>\n",
       "    <tr>\n",
       "      <th>4</th>\n",
       "      <td>-0.045255</td>\n",
       "      <td>-0.025452</td>\n",
       "      <td>-0.148717</td>\n",
       "    </tr>\n",
       "  </tbody>\n",
       "</table>\n",
       "</div>"
      ],
      "text/plain": [
       "          1         2         3\n",
       "0 -0.040305 -0.024599 -0.078238\n",
       "1 -0.034006 -0.024258  0.109705\n",
       "2 -0.032656 -0.027327 -0.031253\n",
       "3 -0.046605 -0.026986  0.039226\n",
       "4 -0.045255 -0.025452 -0.148717"
      ]
     },
     "execution_count": 132,
     "metadata": {},
     "output_type": "execute_result"
    }
   ],
   "source": [
    "df_feat = pd.DataFrame(scaled_features,columns=df.columns[:-1])\n",
    "df_feat.head()"
   ]
  },
  {
   "cell_type": "code",
   "execution_count": 133,
   "metadata": {},
   "outputs": [],
   "source": [
    "X_train, X_test, y_train, y_test = train_test_split(scaled_features,df['Target'],\n",
    "                                                    test_size=0.30)"
   ]
  },
  {
   "cell_type": "code",
   "execution_count": 134,
   "metadata": {},
   "outputs": [
    {
     "data": {
      "text/plain": [
       "(1383, 3)"
      ]
     },
     "execution_count": 134,
     "metadata": {},
     "output_type": "execute_result"
    }
   ],
   "source": [
    "X_train.shape"
   ]
  },
  {
   "cell_type": "code",
   "execution_count": 135,
   "metadata": {},
   "outputs": [],
   "source": [
    "knn = KNeighborsClassifier(n_neighbors=5)"
   ]
  },
  {
   "cell_type": "code",
   "execution_count": 136,
   "metadata": {},
   "outputs": [
    {
     "data": {
      "text/plain": [
       "KNeighborsClassifier(algorithm='auto', leaf_size=30, metric='minkowski',\n",
       "                     metric_params=None, n_jobs=None, n_neighbors=5, p=2,\n",
       "                     weights='uniform')"
      ]
     },
     "execution_count": 136,
     "metadata": {},
     "output_type": "execute_result"
    }
   ],
   "source": [
    "knn.fit(X_train,y_train)"
   ]
  },
  {
   "cell_type": "code",
   "execution_count": 137,
   "metadata": {},
   "outputs": [],
   "source": [
    "y_pred = knn.predict(X_test)"
   ]
  },
  {
   "cell_type": "code",
   "execution_count": 138,
   "metadata": {},
   "outputs": [
    {
     "name": "stdout",
     "output_type": "stream",
     "text": [
      "[[464  10]\n",
      " [  9 111]]\n"
     ]
    }
   ],
   "source": [
    "'''\n",
    "Confusion Matrix\n",
    "[True Positives, False Positive]\n",
    "[False Negative, True Negatives]\n",
    "'''\n",
    "\n",
    "print(confusion_matrix(y_test,y_pred))"
   ]
  },
  {
   "cell_type": "code",
   "execution_count": 139,
   "metadata": {},
   "outputs": [
    {
     "name": "stdout",
     "output_type": "stream",
     "text": [
      "              precision    recall  f1-score   support\n",
      "\n",
      "           0       0.98      0.98      0.98       474\n",
      "           1       0.92      0.93      0.92       120\n",
      "\n",
      "    accuracy                           0.97       594\n",
      "   macro avg       0.95      0.95      0.95       594\n",
      "weighted avg       0.97      0.97      0.97       594\n",
      "\n"
     ]
    }
   ],
   "source": [
    "print(classification_report(y_test,y_pred))"
   ]
  },
  {
   "cell_type": "code",
   "execution_count": 140,
   "metadata": {},
   "outputs": [
    {
     "data": {
      "text/html": [
       "<div>\n",
       "<style scoped>\n",
       "    .dataframe tbody tr th:only-of-type {\n",
       "        vertical-align: middle;\n",
       "    }\n",
       "\n",
       "    .dataframe tbody tr th {\n",
       "        vertical-align: top;\n",
       "    }\n",
       "\n",
       "    .dataframe thead th {\n",
       "        text-align: right;\n",
       "    }\n",
       "</style>\n",
       "<table border=\"1\" class=\"dataframe\">\n",
       "  <thead>\n",
       "    <tr style=\"text-align: right;\">\n",
       "      <th></th>\n",
       "      <th>1</th>\n",
       "      <th>2</th>\n",
       "      <th>3</th>\n",
       "    </tr>\n",
       "  </thead>\n",
       "  <tbody>\n",
       "    <tr>\n",
       "      <th>0</th>\n",
       "      <td>0.74</td>\n",
       "      <td>0.21</td>\n",
       "      <td>22.0</td>\n",
       "    </tr>\n",
       "    <tr>\n",
       "      <th>1</th>\n",
       "      <td>0.43</td>\n",
       "      <td>0.15</td>\n",
       "      <td>14.0</td>\n",
       "    </tr>\n",
       "    <tr>\n",
       "      <th>2</th>\n",
       "      <td>0.77</td>\n",
       "      <td>0.10</td>\n",
       "      <td>15.0</td>\n",
       "    </tr>\n",
       "    <tr>\n",
       "      <th>3</th>\n",
       "      <td>0.57</td>\n",
       "      <td>0.31</td>\n",
       "      <td>15.0</td>\n",
       "    </tr>\n",
       "    <tr>\n",
       "      <th>4</th>\n",
       "      <td>0.80</td>\n",
       "      <td>0.31</td>\n",
       "      <td>20.0</td>\n",
       "    </tr>\n",
       "  </tbody>\n",
       "</table>\n",
       "</div>"
      ],
      "text/plain": [
       "      1     2     3\n",
       "0  0.74  0.21  22.0\n",
       "1  0.43  0.15  14.0\n",
       "2  0.77  0.10  15.0\n",
       "3  0.57  0.31  15.0\n",
       "4  0.80  0.31  20.0"
      ]
     },
     "execution_count": 140,
     "metadata": {},
     "output_type": "execute_result"
    }
   ],
   "source": [
    "submission_data=pd.read_csv(os.getcwd()+'/data/challenge_2/challenge2_prediction.csv')\n",
    "submission_data.drop('Unnamed: 0',axis=1,inplace=True)\n",
    "submission_data.dropna(subset=['1','2','3'],inplace=True)\n",
    "submission_data.head()"
   ]
  },
  {
   "cell_type": "code",
   "execution_count": 141,
   "metadata": {},
   "outputs": [],
   "source": [
    "scaler = StandardScaler()\n",
    "scaler.fit(submission_data)\n",
    "scaled_features = scaler.transform(submission_data)"
   ]
  },
  {
   "cell_type": "code",
   "execution_count": 142,
   "metadata": {},
   "outputs": [],
   "source": [
    "X_test=scaled_features"
   ]
  },
  {
   "cell_type": "code",
   "execution_count": 143,
   "metadata": {},
   "outputs": [
    {
     "name": "stdout",
     "output_type": "stream",
     "text": [
      "Features Shape:  (844, 3)\n"
     ]
    }
   ],
   "source": [
    "print(\"Features Shape: \",X_test.shape)"
   ]
  },
  {
   "cell_type": "code",
   "execution_count": 40,
   "metadata": {},
   "outputs": [],
   "source": [
    "pred = knn.predict(X_test)"
   ]
  },
  {
   "cell_type": "code",
   "execution_count": 41,
   "metadata": {},
   "outputs": [],
   "source": [
    "submission_csv=pd.DataFrame(data=pred, columns=[\"target\"])\n",
    "submission_csv.to_csv(os.getcwd()+'/data/submission/challenge_2_prediction.csv',index=False)"
   ]
  },
  {
   "cell_type": "code",
   "execution_count": null,
   "metadata": {},
   "outputs": [],
   "source": []
  }
 ],
 "metadata": {
  "kernelspec": {
   "display_name": "Python 3",
   "language": "python",
   "name": "python3"
  },
  "language_info": {
   "codemirror_mode": {
    "name": "ipython",
    "version": 3
   },
   "file_extension": ".py",
   "mimetype": "text/x-python",
   "name": "python",
   "nbconvert_exporter": "python",
   "pygments_lexer": "ipython3",
   "version": "3.7.6"
  }
 },
 "nbformat": 4,
 "nbformat_minor": 4
}
